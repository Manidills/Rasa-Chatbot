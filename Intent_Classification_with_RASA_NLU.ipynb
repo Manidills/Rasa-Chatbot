{
  "nbformat": 4,
  "nbformat_minor": 0,
  "metadata": {
    "colab": {
      "name": "Intent Classification with RASA_NLU",
      "provenance": [],
      "authorship_tag": "ABX9TyM+inXZKgkeF4SFQ0jH5iYw",
      "include_colab_link": true
    },
    "kernelspec": {
      "name": "python3",
      "display_name": "Python 3"
    }
  },
  "cells": [
    {
      "cell_type": "markdown",
      "metadata": {
        "id": "view-in-github",
        "colab_type": "text"
      },
      "source": [
        "<a href=\"https://colab.research.google.com/github/Manidills/Rasa-Chatbot/blob/master/Intent_Classification_with_RASA_NLU.ipynb\" target=\"_parent\"><img src=\"https://colab.research.google.com/assets/colab-badge.svg\" alt=\"Open In Colab\"/></a>"
      ]
    },
    {
      "cell_type": "code",
      "metadata": {
        "id": "97Zk7rwvu_TI",
        "colab_type": "code",
        "colab": {
          "base_uri": "https://localhost:8080/",
          "height": 1000
        },
        "outputId": "20cbb7f1-6507-444a-d927-ea7537b93e0b"
      },
      "source": [
        "!pip install rasa_nlu"
      ],
      "execution_count": 5,
      "outputs": [
        {
          "output_type": "stream",
          "text": [
            "Collecting rasa_nlu\n",
            "\u001b[?25l  Downloading https://files.pythonhosted.org/packages/19/c4/c6146c445a17b6ce414d773f93c941c44ca16720609000ae3d01409f9dfb/rasa_nlu-0.15.1-py3-none-any.whl (147kB)\n",
            "\r\u001b[K     |██▎                             | 10kB 19.7MB/s eta 0:00:01\r\u001b[K     |████▌                           | 20kB 1.7MB/s eta 0:00:01\r\u001b[K     |██████▊                         | 30kB 2.3MB/s eta 0:00:01\r\u001b[K     |█████████                       | 40kB 2.5MB/s eta 0:00:01\r\u001b[K     |███████████▏                    | 51kB 2.0MB/s eta 0:00:01\r\u001b[K     |█████████████▍                  | 61kB 2.2MB/s eta 0:00:01\r\u001b[K     |███████████████▋                | 71kB 2.5MB/s eta 0:00:01\r\u001b[K     |█████████████████▉              | 81kB 2.8MB/s eta 0:00:01\r\u001b[K     |████████████████████            | 92kB 2.9MB/s eta 0:00:01\r\u001b[K     |██████████████████████▎         | 102kB 2.8MB/s eta 0:00:01\r\u001b[K     |████████████████████████▌       | 112kB 2.8MB/s eta 0:00:01\r\u001b[K     |██████████████████████████▊     | 122kB 2.8MB/s eta 0:00:01\r\u001b[K     |█████████████████████████████   | 133kB 2.8MB/s eta 0:00:01\r\u001b[K     |███████████████████████████████▏| 143kB 2.8MB/s eta 0:00:01\r\u001b[K     |████████████████████████████████| 153kB 2.8MB/s \n",
            "\u001b[?25hRequirement already satisfied: requests~=2.20 in /usr/local/lib/python3.6/dist-packages (from rasa_nlu) (2.23.0)\n",
            "Collecting packaging~=18.0\n",
            "  Downloading https://files.pythonhosted.org/packages/89/d1/92e6df2e503a69df9faab187c684585f0136662c12bb1f36901d426f3fab/packaging-18.0-py2.py3-none-any.whl\n",
            "Collecting cloudpickle~=0.6.1\n",
            "  Downloading https://files.pythonhosted.org/packages/fc/87/7b7ef3038b4783911e3fdecb5c566e3a817ce3e890e164fc174c088edb1e/cloudpickle-0.6.1-py2.py3-none-any.whl\n",
            "Requirement already satisfied: jsonschema~=2.6 in /usr/local/lib/python3.6/dist-packages (from rasa_nlu) (2.6.0)\n",
            "Collecting ruamel.yaml~=0.15.7\n",
            "\u001b[?25l  Downloading https://files.pythonhosted.org/packages/e7/9f/83bb34eaf84032b0b54fcc4a6aff1858572d279d65a301c7ae875f523df5/ruamel.yaml-0.15.100-cp36-cp36m-manylinux1_x86_64.whl (656kB)\n",
            "\u001b[K     |████████████████████████████████| 665kB 8.8MB/s \n",
            "\u001b[?25hCollecting typing~=3.6\n",
            "\u001b[?25l  Downloading https://files.pythonhosted.org/packages/05/d9/6eebe19d46bd05360c9a9aae822e67a80f9242aabbfc58b641b957546607/typing-3.7.4.3.tar.gz (78kB)\n",
            "\u001b[K     |████████████████████████████████| 81kB 6.7MB/s \n",
            "\u001b[?25hCollecting future~=0.17.1\n",
            "\u001b[?25l  Downloading https://files.pythonhosted.org/packages/90/52/e20466b85000a181e1e144fd8305caf2cf475e2f9674e797b222f8105f5f/future-0.17.1.tar.gz (829kB)\n",
            "\u001b[K     |████████████████████████████████| 829kB 13.0MB/s \n",
            "\u001b[?25hCollecting klein~=17.10\n",
            "  Downloading https://files.pythonhosted.org/packages/8a/6b/adc97a7bb3fb781fdd9e49177ad873c1479f87b9745271cbeda81cbb9cc8/klein-17.10.0-py2.py3-none-any.whl\n",
            "Requirement already satisfied: tqdm~=4.19 in /usr/local/lib/python3.6/dist-packages (from rasa_nlu) (4.41.1)\n",
            "Collecting scikit-learn~=0.20.2\n",
            "\u001b[?25l  Downloading https://files.pythonhosted.org/packages/96/5b/5da31a6572dc6b7b2846a7cfcbe2e060a0e6af0e1059a6516965e40371b7/scikit_learn-0.20.4-cp36-cp36m-manylinux1_x86_64.whl (5.4MB)\n",
            "\u001b[K     |████████████████████████████████| 5.4MB 17.4MB/s \n",
            "\u001b[?25hCollecting gevent~=1.3\n",
            "\u001b[?25l  Downloading https://files.pythonhosted.org/packages/a9/95/b53b78b15abbe547bed7381ca9c8319c86d6b646a30d0831e26c307a5fa7/gevent-1.5.0-cp36-cp36m-manylinux2010_x86_64.whl (5.1MB)\n",
            "\u001b[K     |████████████████████████████████| 5.1MB 41.2MB/s \n",
            "\u001b[?25hCollecting matplotlib~=2.2\n",
            "\u001b[?25l  Downloading https://files.pythonhosted.org/packages/49/cc/94dd12083678ffbfee7cf5ac8bf341b0e6dac64c422851db094e532d1524/matplotlib-2.2.5-cp36-cp36m-manylinux1_x86_64.whl (12.8MB)\n",
            "\u001b[K     |████████████████████████████████| 12.8MB 18.7MB/s \n",
            "\u001b[?25hRequirement already satisfied: numpy>=1.16 in /usr/local/lib/python3.6/dist-packages (from rasa_nlu) (1.18.5)\n",
            "Collecting coloredlogs~=10.0\n",
            "\u001b[?25l  Downloading https://files.pythonhosted.org/packages/08/0f/7877fc42fff0b9d70b6442df62d53b3868d3a6ad1b876bdb54335b30ff23/coloredlogs-10.0-py2.py3-none-any.whl (47kB)\n",
            "\u001b[K     |████████████████████████████████| 51kB 7.5MB/s \n",
            "\u001b[?25hCollecting simplejson~=3.13\n",
            "\u001b[?25l  Downloading https://files.pythonhosted.org/packages/73/96/1e6b19045375890068d7342cbe280dd64ae73fd90b9735b5efb8d1e044a1/simplejson-3.17.2-cp36-cp36m-manylinux2010_x86_64.whl (127kB)\n",
            "\u001b[K     |████████████████████████████████| 133kB 53.0MB/s \n",
            "\u001b[?25hRequirement already satisfied: boto3~=1.9 in /usr/local/lib/python3.6/dist-packages (from rasa_nlu) (1.14.24)\n",
            "Requirement already satisfied: certifi>=2017.4.17 in /usr/local/lib/python3.6/dist-packages (from requests~=2.20->rasa_nlu) (2020.6.20)\n",
            "Requirement already satisfied: idna<3,>=2.5 in /usr/local/lib/python3.6/dist-packages (from requests~=2.20->rasa_nlu) (2.10)\n",
            "Requirement already satisfied: chardet<4,>=3.0.2 in /usr/local/lib/python3.6/dist-packages (from requests~=2.20->rasa_nlu) (3.0.4)\n",
            "Requirement already satisfied: urllib3!=1.25.0,!=1.25.1,<1.26,>=1.21.1 in /usr/local/lib/python3.6/dist-packages (from requests~=2.20->rasa_nlu) (1.24.3)\n",
            "Requirement already satisfied: six in /usr/local/lib/python3.6/dist-packages (from packaging~=18.0->rasa_nlu) (1.15.0)\n",
            "Requirement already satisfied: pyparsing>=2.0.2 in /usr/local/lib/python3.6/dist-packages (from packaging~=18.0->rasa_nlu) (2.4.7)\n",
            "Collecting Twisted>=15.5\n",
            "\u001b[?25l  Downloading https://files.pythonhosted.org/packages/b7/04/1a664c9e5ec0224a1c1a154ddecaa4dc7b8967521bba225efcc41a03d5f3/Twisted-20.3.0-cp36-cp36m-manylinux1_x86_64.whl (3.1MB)\n",
            "\u001b[K     |████████████████████████████████| 3.1MB 47.8MB/s \n",
            "\u001b[?25hCollecting incremental\n",
            "  Downloading https://files.pythonhosted.org/packages/f5/1d/c98a587dc06e107115cf4a58b49de20b19222c83d75335a192052af4c4b7/incremental-17.5.0-py2.py3-none-any.whl\n",
            "Requirement already satisfied: werkzeug in /usr/local/lib/python3.6/dist-packages (from klein~=17.10->rasa_nlu) (1.0.1)\n",
            "Requirement already satisfied: scipy>=0.13.3 in /usr/local/lib/python3.6/dist-packages (from scikit-learn~=0.20.2->rasa_nlu) (1.4.1)\n",
            "Collecting greenlet>=0.4.14; platform_python_implementation == \"CPython\"\n",
            "\u001b[?25l  Downloading https://files.pythonhosted.org/packages/7e/a4/0d8685c98986326534b0753a8b92b3082bc9df42b348bc50d6c69839c9f9/greenlet-0.4.16-cp36-cp36m-manylinux1_x86_64.whl (44kB)\n",
            "\u001b[K     |████████████████████████████████| 51kB 7.1MB/s \n",
            "\u001b[?25hRequirement already satisfied: kiwisolver>=1.0.1 in /usr/local/lib/python3.6/dist-packages (from matplotlib~=2.2->rasa_nlu) (1.2.0)\n",
            "Requirement already satisfied: pytz in /usr/local/lib/python3.6/dist-packages (from matplotlib~=2.2->rasa_nlu) (2018.9)\n",
            "Requirement already satisfied: cycler>=0.10 in /usr/local/lib/python3.6/dist-packages (from matplotlib~=2.2->rasa_nlu) (0.10.0)\n",
            "Requirement already satisfied: python-dateutil>=2.1 in /usr/local/lib/python3.6/dist-packages (from matplotlib~=2.2->rasa_nlu) (2.8.1)\n",
            "Collecting humanfriendly>=4.7\n",
            "\u001b[?25l  Downloading https://files.pythonhosted.org/packages/8e/2d/2f1b0a780b8c948c06c74c8c80e68ac354da52397ba432a1c5ac1923c3af/humanfriendly-8.2-py2.py3-none-any.whl (86kB)\n",
            "\u001b[K     |████████████████████████████████| 92kB 11.1MB/s \n",
            "\u001b[?25hRequirement already satisfied: botocore<1.18.0,>=1.17.24 in /usr/local/lib/python3.6/dist-packages (from boto3~=1.9->rasa_nlu) (1.17.24)\n",
            "Requirement already satisfied: s3transfer<0.4.0,>=0.3.0 in /usr/local/lib/python3.6/dist-packages (from boto3~=1.9->rasa_nlu) (0.3.3)\n",
            "Requirement already satisfied: jmespath<1.0.0,>=0.7.1 in /usr/local/lib/python3.6/dist-packages (from boto3~=1.9->rasa_nlu) (0.10.0)\n",
            "Collecting constantly>=15.1\n",
            "  Downloading https://files.pythonhosted.org/packages/b9/65/48c1909d0c0aeae6c10213340ce682db01b48ea900a7d9fce7a7910ff318/constantly-15.1.0-py2.py3-none-any.whl\n",
            "Collecting PyHamcrest!=1.10.0,>=1.9.0\n",
            "\u001b[?25l  Downloading https://files.pythonhosted.org/packages/40/16/e54cc65891f01cb62893540f44ffd3e8dab0a22443e1b438f1a9f5574bee/PyHamcrest-2.0.2-py3-none-any.whl (52kB)\n",
            "\u001b[K     |████████████████████████████████| 61kB 8.9MB/s \n",
            "\u001b[?25hRequirement already satisfied: attrs>=19.2.0 in /usr/local/lib/python3.6/dist-packages (from Twisted>=15.5->klein~=17.10->rasa_nlu) (19.3.0)\n",
            "Collecting Automat>=0.3.0\n",
            "  Downloading https://files.pythonhosted.org/packages/dd/83/5f6f3c1a562674d65efc320257bdc0873ec53147835aeef7762fe7585273/Automat-20.2.0-py2.py3-none-any.whl\n",
            "Collecting hyperlink>=17.1.1\n",
            "  Downloading https://files.pythonhosted.org/packages/7f/91/e916ca10a2de1cb7101a9b24da546fb90ee14629e23160086cf3361c4fb8/hyperlink-19.0.0-py2.py3-none-any.whl\n",
            "Collecting zope.interface>=4.4.2\n",
            "\u001b[?25l  Downloading https://files.pythonhosted.org/packages/57/33/565274c28a11af60b7cfc0519d46bde4125fcd7d32ebc0a81b480d0e8da6/zope.interface-5.1.0-cp36-cp36m-manylinux2010_x86_64.whl (234kB)\n",
            "\u001b[K     |████████████████████████████████| 235kB 51.0MB/s \n",
            "\u001b[?25hRequirement already satisfied: docutils<0.16,>=0.10 in /usr/local/lib/python3.6/dist-packages (from botocore<1.18.0,>=1.17.24->boto3~=1.9->rasa_nlu) (0.15.2)\n",
            "Requirement already satisfied: setuptools in /usr/local/lib/python3.6/dist-packages (from zope.interface>=4.4.2->Twisted>=15.5->klein~=17.10->rasa_nlu) (49.1.0)\n",
            "Building wheels for collected packages: typing, future\n",
            "  Building wheel for typing (setup.py) ... \u001b[?25l\u001b[?25hdone\n",
            "  Created wheel for typing: filename=typing-3.7.4.3-cp36-none-any.whl size=26309 sha256=50587b6fc3d0d9335aad64c0c2946f131b114d5e2f4c03c87f195599c01fe13b\n",
            "  Stored in directory: /root/.cache/pip/wheels/2d/04/41/8e1836e79581989c22eebac3f4e70aaac9af07b0908da173be\n",
            "  Building wheel for future (setup.py) ... \u001b[?25l\u001b[?25hdone\n",
            "  Created wheel for future: filename=future-0.17.1-cp36-none-any.whl size=488730 sha256=6b2c5d5b9598386ae91615f7ea440d565acfeabb4fee714781612ce94ed759f1\n",
            "  Stored in directory: /root/.cache/pip/wheels/0c/61/d2/d6b7317325828fbb39ee6ad559dbe4664d0896da4721bf379e\n",
            "Successfully built typing future\n",
            "\u001b[31mERROR: tensorflow-probability 0.10.0 has requirement cloudpickle>=1.2.2, but you'll have cloudpickle 0.6.1 which is incompatible.\u001b[0m\n",
            "\u001b[31mERROR: plotnine 0.6.0 has requirement matplotlib>=3.1.1, but you'll have matplotlib 2.2.5 which is incompatible.\u001b[0m\n",
            "\u001b[31mERROR: mizani 0.6.0 has requirement matplotlib>=3.1.1, but you'll have matplotlib 2.2.5 which is incompatible.\u001b[0m\n",
            "\u001b[31mERROR: gym 0.17.2 has requirement cloudpickle<1.4.0,>=1.2.0, but you'll have cloudpickle 0.6.1 which is incompatible.\u001b[0m\n",
            "\u001b[31mERROR: datascience 0.10.6 has requirement folium==0.2.1, but you'll have folium 0.8.3 which is incompatible.\u001b[0m\n",
            "\u001b[31mERROR: albumentations 0.1.12 has requirement imgaug<0.2.7,>=0.2.5, but you'll have imgaug 0.2.9 which is incompatible.\u001b[0m\n",
            "Installing collected packages: packaging, cloudpickle, ruamel.yaml, typing, future, constantly, PyHamcrest, Automat, hyperlink, incremental, zope.interface, Twisted, klein, scikit-learn, greenlet, gevent, matplotlib, humanfriendly, coloredlogs, simplejson, rasa-nlu\n",
            "  Found existing installation: packaging 20.4\n",
            "    Uninstalling packaging-20.4:\n",
            "      Successfully uninstalled packaging-20.4\n",
            "  Found existing installation: cloudpickle 1.3.0\n",
            "    Uninstalling cloudpickle-1.3.0:\n",
            "      Successfully uninstalled cloudpickle-1.3.0\n",
            "  Found existing installation: future 0.16.0\n",
            "    Uninstalling future-0.16.0:\n",
            "      Successfully uninstalled future-0.16.0\n",
            "  Found existing installation: scikit-learn 0.22.2.post1\n",
            "    Uninstalling scikit-learn-0.22.2.post1:\n",
            "      Successfully uninstalled scikit-learn-0.22.2.post1\n",
            "  Found existing installation: matplotlib 3.2.2\n",
            "    Uninstalling matplotlib-3.2.2:\n",
            "      Successfully uninstalled matplotlib-3.2.2\n",
            "Successfully installed Automat-20.2.0 PyHamcrest-2.0.2 Twisted-20.3.0 cloudpickle-0.6.1 coloredlogs-10.0 constantly-15.1.0 future-0.17.1 gevent-1.5.0 greenlet-0.4.16 humanfriendly-8.2 hyperlink-19.0.0 incremental-17.5.0 klein-17.10.0 matplotlib-2.2.5 packaging-18.0 rasa-nlu-0.15.1 ruamel.yaml-0.15.100 scikit-learn-0.20.4 simplejson-3.17.2 typing-3.7.4.3 zope.interface-5.1.0\n"
          ],
          "name": "stdout"
        },
        {
          "output_type": "display_data",
          "data": {
            "application/vnd.colab-display-data+json": {
              "pip_warning": {
                "packages": [
                  "cloudpickle",
                  "matplotlib",
                  "mpl_toolkits",
                  "typing"
                ]
              }
            }
          },
          "metadata": {
            "tags": []
          }
        }
      ]
    },
    {
      "cell_type": "code",
      "metadata": {
        "id": "9XkjQNcvw-pG",
        "colab_type": "code",
        "colab": {}
      },
      "source": [
        "from rasa_nlu.training_data  import load_data\n",
        "from rasa_nlu.config import RasaNLUModelConfig\n",
        "from rasa_nlu.model import Trainer\n",
        "from rasa_nlu import config\n"
      ],
      "execution_count": 28,
      "outputs": []
    },
    {
      "cell_type": "code",
      "metadata": {
        "id": "IikeIiZKxJUG",
        "colab_type": "code",
        "colab": {
          "base_uri": "https://localhost:8080/",
          "height": 1000
        },
        "outputId": "3a25027e-7290-4931-f61c-a3144ad70053"
      },
      "source": [
        "!cat rasa_dataset.json"
      ],
      "execution_count": 29,
      "outputs": [
        {
          "output_type": "stream",
          "text": [
            "{\n",
            "  \"rasa_nlu_data\": {\n",
            "    \"regex_features\": [\n",
            "      {\n",
            "        \"name\": \"zipcode\",\n",
            "        \"pattern\": \"[0-9]{5}\"\n",
            "      },\n",
            "      {\n",
            "        \"name\": \"greet\",\n",
            "        \"pattern\": \"hey[^\\\\s]*\"\n",
            "      }\n",
            "    ],\n",
            "    \"entity_synonyms\": [\n",
            "      {\n",
            "        \"value\": \"chinese\",\n",
            "        \"synonyms\": [\"Chinese\", \"Chines\", \"chines\"]\n",
            "      },\n",
            "      {\n",
            "        \"value\": \"vegetarian\",\n",
            "        \"synonyms\": [\"veggie\", \"vegg\"]\n",
            "      }\n",
            "    ],\n",
            "    \"common_examples\": [\n",
            "      {\n",
            "        \"text\": \"hey\", \n",
            "        \"intent\": \"greet\", \n",
            "        \"entities\": []\n",
            "      }, \n",
            "      {\n",
            "        \"text\": \"howdy\", \n",
            "        \"intent\": \"greet\", \n",
            "        \"entities\": []\n",
            "      }, \n",
            "      {\n",
            "        \"text\": \"hey there\",\n",
            "        \"intent\": \"greet\", \n",
            "        \"entities\": []\n",
            "      }, \n",
            "      {\n",
            "        \"text\": \"hello\", \n",
            "        \"intent\": \"greet\", \n",
            "        \"entities\": []\n",
            "      }, \n",
            "      {\n",
            "        \"text\": \"hi\", \n",
            "        \"intent\": \"greet\", \n",
            "        \"entities\": []\n",
            "      },\n",
            "      {\n",
            "        \"text\": \"good morning\",\n",
            "        \"intent\": \"greet\",\n",
            "        \"entities\": []\n",
            "      },\n",
            "      {\n",
            "        \"text\": \"good evening\",\n",
            "        \"intent\": \"greet\",\n",
            "        \"entities\": []\n",
            "      },\n",
            "      {\n",
            "        \"text\": \"dear sir\",\n",
            "        \"intent\": \"greet\",\n",
            "        \"entities\": []\n",
            "      },\n",
            "      {\n",
            "        \"text\": \"yes\", \n",
            "        \"intent\": \"affirm\", \n",
            "        \"entities\": []\n",
            "      }, \n",
            "      {\n",
            "        \"text\": \"yep\", \n",
            "        \"intent\": \"affirm\", \n",
            "        \"entities\": []\n",
            "      }, \n",
            "      {\n",
            "        \"text\": \"yeah\", \n",
            "        \"intent\": \"affirm\", \n",
            "        \"entities\": []\n",
            "      },\n",
            "      {\n",
            "        \"text\": \"indeed\",\n",
            "        \"intent\": \"affirm\",\n",
            "        \"entities\": []\n",
            "      },\n",
            "      {\n",
            "        \"text\": \"that's right\",\n",
            "        \"intent\": \"affirm\",\n",
            "        \"entities\": []\n",
            "      },\n",
            "      {\n",
            "        \"text\": \"ok\",\n",
            "        \"intent\": \"affirm\",\n",
            "        \"entities\": []\n",
            "      },\n",
            "      {\n",
            "        \"text\": \"great\",\n",
            "        \"intent\": \"affirm\",\n",
            "        \"entities\": []\n",
            "      },\n",
            "      {\n",
            "        \"text\": \"right, thank you\",\n",
            "        \"intent\": \"affirm\",\n",
            "        \"entities\": []\n",
            "      },\n",
            "      {\n",
            "        \"text\": \"correct\",\n",
            "        \"intent\": \"affirm\",\n",
            "        \"entities\": []\n",
            "      },\n",
            "      {\n",
            "        \"text\": \"great choice\",\n",
            "        \"intent\": \"affirm\",\n",
            "        \"entities\": []\n",
            "      },\n",
            "      {\n",
            "        \"text\": \"sounds really good\",\n",
            "        \"intent\": \"affirm\",\n",
            "        \"entities\": []\n",
            "      },\n",
            "      {\n",
            "        \"text\": \"i'm looking for a place to eat\",\n",
            "        \"intent\": \"restaurant_search\",\n",
            "        \"entities\": []\n",
            "      },\n",
            "      {\n",
            "        \"text\": \"I want to grab lunch\",\n",
            "        \"intent\": \"restaurant_search\",\n",
            "        \"entities\": []\n",
            "      },\n",
            "      {\n",
            "        \"text\": \"I am searching for a dinner spot\",\n",
            "        \"intent\": \"restaurant_search\",\n",
            "        \"entities\": []\n",
            "      },\n",
            "      {\n",
            "        \"text\": \"i'm looking for a place in the north of town\",\n",
            "        \"intent\": \"restaurant_search\",\n",
            "        \"entities\": [\n",
            "          {\n",
            "            \"start\": 31,\n",
            "            \"end\": 36,\n",
            "            \"value\": \"north\",\n",
            "            \"entity\": \"location\"\n",
            "          }\n",
            "        ]\n",
            "      },\n",
            "      {\n",
            "        \"text\": \"show me chinese restaurants\",\n",
            "        \"intent\": \"restaurant_search\",\n",
            "        \"entities\": [\n",
            "          {\n",
            "            \"start\": 8,\n",
            "            \"end\": 15,\n",
            "            \"value\": \"chinese\",\n",
            "            \"entity\": \"cuisine\"\n",
            "          }\n",
            "        ]\n",
            "      },\n",
            "      {\n",
            "        \"text\": \"show me chines restaurants in the north\",\n",
            "        \"intent\": \"restaurant_search\",\n",
            "        \"entities\": [\n",
            "          {\n",
            "            \"start\": 8,\n",
            "            \"end\": 14,\n",
            "            \"value\": \"chinese\",\n",
            "            \"entity\": \"cuisine\"\n",
            "          },\n",
            "          {\n",
            "            \"start\": 34,\n",
            "            \"end\": 39,\n",
            "            \"value\": \"north\",\n",
            "            \"entity\": \"location\"\n",
            "          }\n",
            "        ]\n",
            "      },\n",
            "      {\n",
            "        \"text\": \"show me a mexican place in the centre\", \n",
            "        \"intent\": \"restaurant_search\", \n",
            "        \"entities\": [\n",
            "          {\n",
            "            \"start\": 31, \n",
            "            \"end\": 37, \n",
            "            \"value\": \"centre\", \n",
            "            \"entity\": \"location\"\n",
            "          }, \n",
            "          {\n",
            "            \"start\": 10, \n",
            "            \"end\": 17, \n",
            "            \"value\": \"mexican\", \n",
            "            \"entity\": \"cuisine\"\n",
            "          }\n",
            "        ]\n",
            "      },\n",
            "      {\n",
            "        \"text\": \"i am looking for an indian spot called olaolaolaolaolaola\",\n",
            "        \"intent\": \"restaurant_search\",\n",
            "        \"entities\": [\n",
            "          {\n",
            "            \"start\": 20,\n",
            "            \"end\": 26,\n",
            "            \"value\": \"indian\",\n",
            "            \"entity\": \"cuisine\"\n",
            "          }\n",
            "        ]\n",
            "      },     {\n",
            "        \"text\": \"search for restaurants\",\n",
            "        \"intent\": \"restaurant_search\",\n",
            "        \"entities\": []\n",
            "      },\n",
            "      {\n",
            "        \"text\": \"anywhere in the west\",\n",
            "        \"intent\": \"restaurant_search\",\n",
            "        \"entities\": [\n",
            "          {\n",
            "            \"start\": 16,\n",
            "            \"end\": 20,\n",
            "            \"value\": \"west\",\n",
            "            \"entity\": \"location\"\n",
            "          }\n",
            "        ]\n",
            "      },\n",
            "      {\n",
            "        \"text\": \"anywhere near 18328\",\n",
            "        \"intent\": \"restaurant_search\",\n",
            "        \"entities\": [\n",
            "          {\n",
            "            \"start\": 14,\n",
            "            \"end\": 19,\n",
            "            \"value\": \"18328\",\n",
            "            \"entity\": \"location\"\n",
            "          }\n",
            "        ]\n",
            "      },\n",
            "      {\n",
            "        \"text\": \"I am looking for asian fusion food\",\n",
            "        \"intent\": \"restaurant_search\",\n",
            "        \"entities\": [\n",
            "          {\n",
            "            \"start\": 17,\n",
            "            \"end\": 29,\n",
            "            \"value\": \"asian fusion\",\n",
            "            \"entity\": \"cuisine\"\n",
            "          }\n",
            "        ]\n",
            "      },\n",
            "      {\n",
            "        \"text\": \"I am looking a restaurant in 29432\",\n",
            "        \"intent\": \"restaurant_search\",\n",
            "        \"entities\": [\n",
            "          {\n",
            "            \"start\": 29,\n",
            "            \"end\": 34,\n",
            "            \"value\": \"29432\",\n",
            "            \"entity\": \"location\"\n",
            "          }\n",
            "        ]\n",
            "      },\n",
            "      {\n",
            "        \"text\": \"I am looking for mexican indian fusion\",\n",
            "        \"intent\": \"restaurant_search\",\n",
            "        \"entities\": [\n",
            "          {\n",
            "            \"start\": 17,\n",
            "            \"end\": 38,\n",
            "            \"value\": \"mexican indian fusion\",\n",
            "            \"entity\": \"cuisine\"\n",
            "          }\n",
            "        ]\n",
            "      },\n",
            "      {\n",
            "        \"text\": \"central indian restaurant\",\n",
            "        \"intent\": \"restaurant_search\",\n",
            "        \"entities\": [\n",
            "          {\n",
            "            \"start\": 0,\n",
            "            \"end\": 7,\n",
            "            \"value\": \"central\",\n",
            "            \"entity\": \"location\"\n",
            "          },\n",
            "          {\n",
            "            \"start\": 8,\n",
            "            \"end\": 14,\n",
            "            \"value\": \"indian\",\n",
            "            \"entity\": \"cuisine\"\n",
            "          }\n",
            "        ]\n",
            "      },\n",
            "      {\n",
            "        \"text\": \"bye\", \n",
            "        \"intent\": \"goodbye\", \n",
            "        \"entities\": []\n",
            "      }, \n",
            "      {\n",
            "        \"text\": \"goodbye\", \n",
            "        \"intent\": \"goodbye\", \n",
            "        \"entities\": []\n",
            "      }, \n",
            "      {\n",
            "        \"text\": \"good bye\", \n",
            "        \"intent\": \"goodbye\", \n",
            "        \"entities\": []\n",
            "      }, \n",
            "      {\n",
            "        \"text\": \"stop\", \n",
            "        \"intent\": \"goodbye\", \n",
            "        \"entities\": []\n",
            "      }, \n",
            "      {\n",
            "        \"text\": \"end\", \n",
            "        \"intent\": \"goodbye\", \n",
            "        \"entities\": []\n",
            "      },\n",
            "      {\n",
            "        \"text\": \"farewell\",\n",
            "        \"intent\": \"goodbye\",\n",
            "        \"entities\": []\n",
            "      },\n",
            "      {\n",
            "        \"text\": \"Bye bye\",\n",
            "        \"intent\": \"goodbye\",\n",
            "        \"entities\": []\n",
            "      },\n",
            "      {\n",
            "        \"text\": \"have a good one\",\n",
            "        \"intent\": \"goodbye\",\n",
            "        \"entities\": []\n",
            "      }\n",
            "    ]\n",
            "  }\n",
            "}\n"
          ],
          "name": "stdout"
        }
      ]
    },
    {
      "cell_type": "code",
      "metadata": {
        "id": "DB9DXLa6xLoE",
        "colab_type": "code",
        "colab": {}
      },
      "source": [
        "train_data = load_data('rasa_dataset.json')"
      ],
      "execution_count": 30,
      "outputs": []
    },
    {
      "cell_type": "code",
      "metadata": {
        "id": "wp4zNLmtxTsS",
        "colab_type": "code",
        "colab": {
          "base_uri": "https://localhost:8080/",
          "height": 124
        },
        "outputId": "09e763cd-96c5-424c-aec4-5d4b762fbff8"
      },
      "source": [
        "!pip install sklearn_crfsuite"
      ],
      "execution_count": 31,
      "outputs": [
        {
          "output_type": "stream",
          "text": [
            "Requirement already satisfied: sklearn_crfsuite in /usr/local/lib/python3.6/dist-packages (0.3.6)\n",
            "Requirement already satisfied: tqdm>=2.0 in /usr/local/lib/python3.6/dist-packages (from sklearn_crfsuite) (4.41.1)\n",
            "Requirement already satisfied: tabulate in /usr/local/lib/python3.6/dist-packages (from sklearn_crfsuite) (0.8.7)\n",
            "Requirement already satisfied: python-crfsuite>=0.8.3 in /usr/local/lib/python3.6/dist-packages (from sklearn_crfsuite) (0.9.7)\n",
            "Requirement already satisfied: six in /usr/local/lib/python3.6/dist-packages (from sklearn_crfsuite) (1.15.0)\n"
          ],
          "name": "stdout"
        }
      ]
    },
    {
      "cell_type": "code",
      "metadata": {
        "id": "nNOepZLcxQGG",
        "colab_type": "code",
        "colab": {}
      },
      "source": [
        "trainer = Trainer(config.load(\"config_spacy.yaml\"))"
      ],
      "execution_count": 32,
      "outputs": []
    },
    {
      "cell_type": "code",
      "metadata": {
        "id": "nekYz3rgxR1x",
        "colab_type": "code",
        "colab": {
          "base_uri": "https://localhost:8080/",
          "height": 315
        },
        "outputId": "854a167e-b8e3-4d96-a7a8-320542c6b227"
      },
      "source": [
        "trainer.train(train_data)"
      ],
      "execution_count": 33,
      "outputs": [
        {
          "output_type": "stream",
          "text": [
            "Fitting 2 folds for each of 6 candidates, totalling 12 fits\n"
          ],
          "name": "stdout"
        },
        {
          "output_type": "stream",
          "text": [
            "[Parallel(n_jobs=1)]: Using backend SequentialBackend with 1 concurrent workers.\n",
            "/usr/local/lib/python3.6/dist-packages/sklearn/metrics/classification.py:1143: UndefinedMetricWarning: F-score is ill-defined and being set to 0.0 in labels with no predicted samples.\n",
            "  'precision', 'predicted', average, warn_for)\n",
            "/usr/local/lib/python3.6/dist-packages/sklearn/metrics/classification.py:1143: UndefinedMetricWarning: F-score is ill-defined and being set to 0.0 in labels with no predicted samples.\n",
            "  'precision', 'predicted', average, warn_for)\n",
            "/usr/local/lib/python3.6/dist-packages/sklearn/metrics/classification.py:1143: UndefinedMetricWarning: F-score is ill-defined and being set to 0.0 in labels with no predicted samples.\n",
            "  'precision', 'predicted', average, warn_for)\n",
            "/usr/local/lib/python3.6/dist-packages/sklearn/metrics/classification.py:1143: UndefinedMetricWarning: F-score is ill-defined and being set to 0.0 in labels with no predicted samples.\n",
            "  'precision', 'predicted', average, warn_for)\n",
            "/usr/local/lib/python3.6/dist-packages/sklearn/metrics/classification.py:1143: UndefinedMetricWarning: F-score is ill-defined and being set to 0.0 in labels with no predicted samples.\n",
            "  'precision', 'predicted', average, warn_for)\n",
            "/usr/local/lib/python3.6/dist-packages/sklearn/metrics/classification.py:1143: UndefinedMetricWarning: F-score is ill-defined and being set to 0.0 in labels with no predicted samples.\n",
            "  'precision', 'predicted', average, warn_for)\n",
            "[Parallel(n_jobs=1)]: Done  12 out of  12 | elapsed:    0.0s finished\n"
          ],
          "name": "stderr"
        },
        {
          "output_type": "execute_result",
          "data": {
            "text/plain": [
              "<rasa_nlu.model.Interpreter at 0x7fea13b077b8>"
            ]
          },
          "metadata": {
            "tags": []
          },
          "execution_count": 33
        }
      ]
    },
    {
      "cell_type": "code",
      "metadata": {
        "id": "m-svG6G_xfEl",
        "colab_type": "code",
        "colab": {}
      },
      "source": [
        "model_directory = trainer.persist('/projects/')"
      ],
      "execution_count": 34,
      "outputs": []
    },
    {
      "cell_type": "code",
      "metadata": {
        "id": "6TdD74IbxhpC",
        "colab_type": "code",
        "colab": {}
      },
      "source": [
        "import spacy\n",
        "nlp = spacy.load('en')"
      ],
      "execution_count": 35,
      "outputs": []
    },
    {
      "cell_type": "code",
      "metadata": {
        "id": "qfSUGDYqxkcY",
        "colab_type": "code",
        "colab": {}
      },
      "source": [
        "docx = nlp(u\"I am looking for an Italian Restaurant where I can eat\")"
      ],
      "execution_count": 36,
      "outputs": []
    },
    {
      "cell_type": "code",
      "metadata": {
        "id": "9aOkJ9w3xv-r",
        "colab_type": "code",
        "colab": {
          "base_uri": "https://localhost:8080/",
          "height": 34
        },
        "outputId": "0e6a340d-fb83-4610-8ae8-659a6c0734fe"
      },
      "source": [
        "for word in docx.ents:\n",
        "    print(\"value\",word.text,\"entity\",word.label_,\"start\",word.start_char,\"end\",word.end_char)"
      ],
      "execution_count": 37,
      "outputs": [
        {
          "output_type": "stream",
          "text": [
            "value Italian entity NORP start 20 end 27\n"
          ],
          "name": "stdout"
        }
      ]
    },
    {
      "cell_type": "code",
      "metadata": {
        "id": "eTYVhqmVxyN9",
        "colab_type": "code",
        "colab": {}
      },
      "source": [
        "from rasa_nlu.model import Metadata, Interpreter"
      ],
      "execution_count": 38,
      "outputs": []
    },
    {
      "cell_type": "code",
      "metadata": {
        "id": "V9K_kVjF9PfV",
        "colab_type": "code",
        "colab": {}
      },
      "source": [
        "interpreter = Interpreter.load(model_directory)\n"
      ],
      "execution_count": 39,
      "outputs": []
    },
    {
      "cell_type": "code",
      "metadata": {
        "id": "f2L35lzwBPKv",
        "colab_type": "code",
        "colab": {
          "base_uri": "https://localhost:8080/",
          "height": 243
        },
        "outputId": "3d6465bf-ddb0-4942-b948-0c0db57064b8"
      },
      "source": [
        "interpreter.parse(u\"I am looking for an Indian Restaurant where I can eat momoos\")"
      ],
      "execution_count": 46,
      "outputs": [
        {
          "output_type": "execute_result",
          "data": {
            "text/plain": [
              "{'entities': [{'confidence': 0.8103916515513382,\n",
              "   'end': 26,\n",
              "   'entity': 'cuisine',\n",
              "   'extractor': 'CRFEntityExtractor',\n",
              "   'start': 20,\n",
              "   'value': 'indian'}],\n",
              " 'intent': {'confidence': 0.6805357822387816, 'name': 'restaurant_search'},\n",
              " 'intent_ranking': [{'confidence': 0.6805357822387816,\n",
              "   'name': 'restaurant_search'},\n",
              "  {'confidence': 0.16053842363462512, 'name': 'affirm'},\n",
              "  {'confidence': 0.09976470877268594, 'name': 'greet'},\n",
              "  {'confidence': 0.05916108535390772, 'name': 'goodbye'}],\n",
              " 'text': 'I am looking for an Indian Restaurant where I can eat momoos'}"
            ]
          },
          "metadata": {
            "tags": []
          },
          "execution_count": 46
        }
      ]
    },
    {
      "cell_type": "code",
      "metadata": {
        "id": "nD0dptIrBWNF",
        "colab_type": "code",
        "colab": {
          "base_uri": "https://localhost:8080/",
          "height": 139
        },
        "outputId": "c9b216e5-c86d-4e5d-8352-ea20c9f84689"
      },
      "source": [
        "interpreter.parse(u\"goodbye\")\n"
      ],
      "execution_count": 45,
      "outputs": [
        {
          "output_type": "execute_result",
          "data": {
            "text/plain": [
              "{'entities': [],\n",
              " 'intent': {'confidence': 0.6878408496502786, 'name': 'goodbye'},\n",
              " 'intent_ranking': [{'confidence': 0.6878408496502786, 'name': 'goodbye'},\n",
              "  {'confidence': 0.18596965797970846, 'name': 'affirm'},\n",
              "  {'confidence': 0.10065835603918481, 'name': 'greet'},\n",
              "  {'confidence': 0.025531136330828548, 'name': 'restaurant_search'}],\n",
              " 'text': 'goodbye'}"
            ]
          },
          "metadata": {
            "tags": []
          },
          "execution_count": 45
        }
      ]
    },
    {
      "cell_type": "code",
      "metadata": {
        "id": "8xkJciCeBwaa",
        "colab_type": "code",
        "colab": {
          "base_uri": "https://localhost:8080/",
          "height": 156
        },
        "outputId": "5922b61b-468c-4371-f594-d99209134690"
      },
      "source": [
        "interpreter.parse(u\"where is that chinese restaurant\")"
      ],
      "execution_count": 47,
      "outputs": [
        {
          "output_type": "execute_result",
          "data": {
            "text/plain": [
              "{'entities': [],\n",
              " 'intent': {'confidence': 0.706472230206902, 'name': 'restaurant_search'},\n",
              " 'intent_ranking': [{'confidence': 0.706472230206902,\n",
              "   'name': 'restaurant_search'},\n",
              "  {'confidence': 0.17547845838361692, 'name': 'affirm'},\n",
              "  {'confidence': 0.07682488513981288, 'name': 'greet'},\n",
              "  {'confidence': 0.04122442626966814, 'name': 'goodbye'}],\n",
              " 'text': 'where is that chinese restaurant'}"
            ]
          },
          "metadata": {
            "tags": []
          },
          "execution_count": 47
        }
      ]
    },
    {
      "cell_type": "code",
      "metadata": {
        "id": "_GnMGYphDbBl",
        "colab_type": "code",
        "colab": {}
      },
      "source": [
        ""
      ],
      "execution_count": null,
      "outputs": []
    }
  ]
}